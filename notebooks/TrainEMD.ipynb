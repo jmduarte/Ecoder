{
 "cells": [
  {
   "cell_type": "code",
   "execution_count": 9,
   "metadata": {},
   "outputs": [],
   "source": [
    "import numpy as np\n",
    "import pandas as pd\n",
    "import math\n",
    "\n",
    "import itertools\n",
    "\n",
    "import os\n",
    "import sys\n",
    "sys.path.insert(0, \"../\")\n",
    "\n",
    "import matplotlib\n",
    "matplotlib.use('Agg')\n",
    "import matplotlib.pyplot as plt\n",
    "%matplotlib inline\n",
    "from plotWafer import plotWafer\n",
    "from train import emd"
   ]
  },
  {
   "cell_type": "code",
   "execution_count": 2,
   "metadata": {},
   "outputs": [
    {
     "name": "stdout",
     "output_type": "stream",
     "text": [
      "(25600, 48)\n",
      "(25600, 48)\n",
      "(25600,)\n",
      "(11664, 48)\n",
      "(11664, 48)\n",
      "(11664,)\n"
     ]
    }
   ],
   "source": [
    "f_raw = '../data/signal/nElinks_5/ttbar_v11_eolNoise_Layer9_5Links.csv'\n",
    "\n",
    "# if data not found, download from dropbox\n",
    "if not os.path.isfile(f_raw):\n",
    "    os.system('cd ../; wget -O data.tgz https://www.dropbox.com/s/owdfdxwb9rwrgyo/data.tgz?dl=1; tar -xvzf data.tgz; rm data.tgz')\n",
    "\n",
    "calQ     = np.genfromtxt(f_raw, delimiter=',',usecols=[*range(0, 48)],skip_header=2000,max_rows=300)\n",
    "sumQ     = calQ.sum(axis=1)\n",
    "calQ     = calQ[sumQ>0]\n",
    "sumQ     = sumQ[sumQ>0]\n",
    "occ = (np.count_nonzero(calQ>1,axis=1))\n",
    "\n",
    "# split train and validation so there is no overlap in samples whatsoever\n",
    "train_indices = range(0, int(0.6*len(calQ)))\n",
    "val_indices = range(int(0.6*len(calQ)), len(calQ))\n",
    "\n",
    "idx1_train = np.array([i for i,j in itertools.product(train_indices,train_indices)])\n",
    "idx2_train = np.array([j for i,j in itertools.product(train_indices,train_indices)])\n",
    "\n",
    "X1_train = calQ[idx1_train]\n",
    "X2_train = calQ[idx2_train]\n",
    "y_train = np.array([emd(calQ[i],calQ[j]) for i, j in zip(idx1_train, idx2_train)])\n",
    "\n",
    "idx1_val = np.array([i for i,j in itertools.product(val_indices,val_indices)])\n",
    "idx2_val = np.array([j for i,j in itertools.product(val_indices,val_indices)])\n",
    "\n",
    "X1_val = calQ[idx1_val]\n",
    "X2_val = calQ[idx2_val]\n",
    "y_val = np.array([emd(calQ[i],calQ[j]) for i, j in zip(idx1_val, idx2_val)])\n",
    "\n",
    "print(X1_train.shape)\n",
    "print(X2_train.shape)\n",
    "print(y_train.shape)\n",
    "\n",
    "print(X1_val.shape)\n",
    "print(X2_val.shape)\n",
    "print(y_val.shape)"
   ]
  },
  {
   "cell_type": "code",
   "execution_count": 3,
   "metadata": {},
   "outputs": [],
   "source": [
    "i = 10\n",
    "j = 13\n",
    "\n",
    "fig, axs = plt.subplots(1,2, figsize=(10, 4))\n",
    "axs[0].set(title='inputQ 1')\n",
    "axs[1].set(title='inputQ 2')\n",
    "minQ = min(min(calQ[i]),min(calQ[j]))\n",
    "maxQ = max(max(calQ[i]),max(calQ[j]))\n",
    "plotWafer(calQ[i], fig, axs[0], scale=(minQ,maxQ))\n",
    "plotWafer(calQ[j], fig, axs[1], scale=(minQ,maxQ))\n",
    "fig.suptitle('EMD = %.3f, occ = (%s, %s), sumQ = (%s, %s)'%(emd(calQ[i],calQ[j]),occ[i],occ[j], sumQ[i], sumQ[j]))\n",
    "plt.show()"
   ]
  },
  {
   "cell_type": "code",
   "execution_count": 34,
   "metadata": {},
   "outputs": [
    {
     "name": "stdout",
     "output_type": "stream",
     "text": [
      "Model: \"base_model\"\n",
      "__________________________________________________________________________________________________\n",
      "Layer (type)                    Output Shape         Param #     Connected to                     \n",
      "==================================================================================================\n",
      "input_1 (InputLayer)            [(None, 48)]         0                                            \n",
      "__________________________________________________________________________________________________\n",
      "input_2 (InputLayer)            [(None, 48)]         0                                            \n",
      "__________________________________________________________________________________________________\n",
      "concat (Concatenate)            (None, 96)           0           input_1[0][0]                    \n",
      "                                                                 input_2[0][0]                    \n",
      "__________________________________________________________________________________________________\n",
      "flatten (Flatten)               (None, 96)           0           concat[0][0]                     \n",
      "__________________________________________________________________________________________________\n",
      "dense_1 (Dense)                 (None, 128)          12416       flatten[0][0]                    \n",
      "__________________________________________________________________________________________________\n",
      "batchnorm_1 (BatchNormalization (None, 128)          512         dense_1[0][0]                    \n",
      "__________________________________________________________________________________________________\n",
      "relu_1 (Activation)             (None, 128)          0           batchnorm_1[0][0]                \n",
      "__________________________________________________________________________________________________\n",
      "dense_2 (Dense)                 (None, 128)          16512       relu_1[0][0]                     \n",
      "__________________________________________________________________________________________________\n",
      "batchnorm_2 (BatchNormalization (None, 128)          512         dense_2[0][0]                    \n",
      "__________________________________________________________________________________________________\n",
      "relu_2 (Activation)             (None, 128)          0           batchnorm_2[0][0]                \n",
      "__________________________________________________________________________________________________\n",
      "dense_3 (Dense)                 (None, 128)          16512       relu_2[0][0]                     \n",
      "__________________________________________________________________________________________________\n",
      "batchnorm_3 (BatchNormalization (None, 128)          512         dense_3[0][0]                    \n",
      "__________________________________________________________________________________________________\n",
      "relu_3 (Activation)             (None, 128)          0           batchnorm_3[0][0]                \n",
      "__________________________________________________________________________________________________\n",
      "output (Dense)                  (None, 1)            129         relu_3[0][0]                     \n",
      "==================================================================================================\n",
      "Total params: 47,105\n",
      "Trainable params: 46,337\n",
      "Non-trainable params: 768\n",
      "__________________________________________________________________________________________________\n",
      "Model: \"sym_model\"\n",
      "__________________________________________________________________________________________________\n",
      "Layer (type)                    Output Shape         Param #     Connected to                     \n",
      "==================================================================================================\n",
      "input_1 (InputLayer)            [(None, 48)]         0                                            \n",
      "__________________________________________________________________________________________________\n",
      "input_2 (InputLayer)            [(None, 48)]         0                                            \n",
      "__________________________________________________________________________________________________\n",
      "base_model (Functional)         (None, 1)            47105       input_1[0][0]                    \n",
      "                                                                 input_2[0][0]                    \n",
      "                                                                 input_2[0][0]                    \n",
      "                                                                 input_1[0][0]                    \n",
      "__________________________________________________________________________________________________\n",
      "average (Average)               (None, 1)            0           base_model[0][0]                 \n",
      "                                                                 base_model[1][0]                 \n",
      "==================================================================================================\n",
      "Total params: 47,105\n",
      "Trainable params: 46,337\n",
      "Non-trainable params: 768\n",
      "__________________________________________________________________________________________________\n"
     ]
    }
   ],
   "source": [
    "import tensorflow\n",
    "from tensorflow.keras.layers import Input, Dense, Flatten, Concatenate, BatchNormalization, Activation, Average\n",
    "from tensorflow.keras.models import Model\n",
    "from tensorflow.keras.regularizers import l1_l2\n",
    "\n",
    "# make a simple fully connected model as a PoC\n",
    "input1 = Input(shape=(48,), name='input_1')\n",
    "input2 = Input(shape=(48,), name='input_2')\n",
    "x = Concatenate(name='concat')([input1, input2])\n",
    "x = Flatten(name='flatten')(x)\n",
    "x = Dense(128, name='dense_1', kernel_regularizer=l1_l2(l1=0,l2=1e-4))(x)\n",
    "x = BatchNormalization(name='batchnorm_1')(x)\n",
    "x = Activation('relu', name='relu_1')(x)\n",
    "x = Dense(128, name='dense_2', kernel_regularizer=l1_l2(l1=0,l2=1e-4))(x)\n",
    "x = BatchNormalization(name='batchnorm_2')(x)\n",
    "x = Activation('relu', name='relu_2')(x)\n",
    "x = Dense(128, name='dense_3', kernel_regularizer=l1_l2(l1=0,l2=1e-4))(x)\n",
    "x = BatchNormalization(name='batchnorm_3')(x)\n",
    "x = Activation('relu', name='relu_3')(x)\n",
    "output = Dense(1, name='output')(x)\n",
    "model = Model(inputs=[input1, input2], outputs=output, name='base_model')\n",
    "model.summary()\n",
    "\n",
    "# make a model that enforces the symmetry of the EMD function by averging the outputs for swapped inputs\n",
    "output = Average(name='average')([model((input1, input2)), model((input2, input1))])\n",
    "sym_model = Model(inputs=[input1, input2], outputs=output, name='sym_model')\n",
    "sym_model.summary()"
   ]
  },
  {
   "cell_type": "code",
   "execution_count": 35,
   "metadata": {},
   "outputs": [
    {
     "name": "stdout",
     "output_type": "stream",
     "text": [
      "Epoch 1/10\n",
      "800/800 [==============================] - 7s 7ms/step - loss: 0.5454 - mse: 13.8713 - mae: 2.6912 - mape: 27182597.8514 - msle: 0.5088 - val_loss: 0.1692 - val_mse: 4.5620 - val_mae: 1.6510 - val_mape: 52183552.0000 - val_msle: 0.1349\n",
      "\n",
      "Epoch 00001: val_loss improved from inf to 0.16924, saving model to models/emd_model_best.h5\n",
      "\n",
      "Epoch 00001: saving model to models/emd_model_last.h5\n",
      "Epoch 2/10\n",
      "800/800 [==============================] - 5s 7ms/step - loss: 0.1281 - mse: 3.3417 - mae: 1.4033 - mape: 31161414.4694 - msle: 0.0946 - val_loss: 0.1584 - val_mse: 4.5450 - val_mae: 1.5698 - val_mape: 48259228.0000 - val_msle: 0.1277\n",
      "\n",
      "Epoch 00002: val_loss improved from 0.16924 to 0.15842, saving model to models/emd_model_best.h5\n",
      "\n",
      "Epoch 00002: saving model to models/emd_model_last.h5\n",
      "Epoch 3/10\n",
      "800/800 [==============================] - 6s 7ms/step - loss: 0.1091 - mse: 2.7474 - mae: 1.2556 - mape: 27027057.0510 - msle: 0.0793 - val_loss: 0.1338 - val_mse: 3.3096 - val_mae: 1.3871 - val_mape: 39376300.0000 - val_msle: 0.1066\n",
      "\n",
      "Epoch 00003: val_loss improved from 0.15842 to 0.13383, saving model to models/emd_model_best.h5\n",
      "\n",
      "Epoch 00003: saving model to models/emd_model_last.h5\n",
      "Epoch 4/10\n",
      "800/800 [==============================] - 6s 7ms/step - loss: 0.0968 - mse: 2.3916 - mae: 1.1549 - mape: 23866918.1748 - msle: 0.0704 - val_loss: 0.1296 - val_mse: 3.6576 - val_mae: 1.4175 - val_mape: 36763576.0000 - val_msle: 0.1054\n",
      "\n",
      "Epoch 00004: val_loss improved from 0.13383 to 0.12957, saving model to models/emd_model_best.h5\n",
      "\n",
      "Epoch 00004: saving model to models/emd_model_last.h5\n",
      "Epoch 5/10\n",
      "800/800 [==============================] - 6s 7ms/step - loss: 0.0862 - mse: 2.1604 - mae: 1.0963 - mape: 19039379.2407 - msle: 0.0628 - val_loss: 0.1202 - val_mse: 3.5470 - val_mae: 1.4045 - val_mape: 29233938.0000 - val_msle: 0.0988\n",
      "\n",
      "Epoch 00005: val_loss improved from 0.12957 to 0.12021, saving model to models/emd_model_best.h5\n",
      "\n",
      "Epoch 00005: saving model to models/emd_model_last.h5\n",
      "Epoch 6/10\n",
      "800/800 [==============================] - 6s 7ms/step - loss: 0.0800 - mse: 2.0417 - mae: 1.0663 - mape: 20198658.6803 - msle: 0.0591 - val_loss: 0.1263 - val_mse: 3.9411 - val_mae: 1.4583 - val_mape: 32119768.0000 - val_msle: 0.1073\n",
      "\n",
      "Epoch 00006: val_loss did not improve from 0.12021\n",
      "\n",
      "Epoch 00006: saving model to models/emd_model_last.h5\n",
      "Epoch 7/10\n",
      "800/800 [==============================] - 6s 8ms/step - loss: 0.0740 - mse: 1.8984 - mae: 1.0259 - mape: 17351479.7805 - msle: 0.0555 - val_loss: 0.1272 - val_mse: 4.8036 - val_mae: 1.5178 - val_mape: 29160604.0000 - val_msle: 0.1100\n",
      "\n",
      "Epoch 00007: val_loss did not improve from 0.12021\n",
      "\n",
      "Epoch 00007: saving model to models/emd_model_last.h5\n",
      "Epoch 8/10\n",
      "800/800 [==============================] - 6s 7ms/step - loss: 0.0702 - mse: 1.8280 - mae: 1.0111 - mape: 15970284.8105 - msle: 0.0534 - val_loss: 0.1290 - val_mse: 5.1379 - val_mae: 1.5290 - val_mape: 29036732.0000 - val_msle: 0.1132\n",
      "\n",
      "Epoch 00008: val_loss did not improve from 0.12021\n",
      "\n",
      "Epoch 00008: saving model to models/emd_model_last.h5\n",
      "Epoch 9/10\n",
      "800/800 [==============================] - 6s 7ms/step - loss: 0.0672 - mse: 1.7809 - mae: 0.9876 - mape: 15647389.7076 - msle: 0.0516 - val_loss: 0.1232 - val_mse: 4.7601 - val_mae: 1.5399 - val_mape: 23714220.0000 - val_msle: 0.1084\n",
      "\n",
      "Epoch 00009: val_loss did not improve from 0.12021\n",
      "\n",
      "Epoch 00009: saving model to models/emd_model_last.h5\n",
      "Epoch 10/10\n",
      "800/800 [==============================] - 6s 8ms/step - loss: 0.0646 - mse: 1.6422 - mae: 0.9565 - mape: 16315836.3086 - msle: 0.0500 - val_loss: 0.1435 - val_mse: 6.9854 - val_mae: 1.6808 - val_mape: 30719744.0000 - val_msle: 0.1296\n",
      "\n",
      "Epoch 00010: val_loss did not improve from 0.12021\n",
      "\n",
      "Epoch 00010: saving model to models/emd_model_last.h5\n"
     ]
    }
   ],
   "source": [
    "from tensorflow.keras.callbacks import EarlyStopping, ModelCheckpoint\n",
    "!mkdir -p models\n",
    "callbacks = [ModelCheckpoint('models/emd_model_best.h5', monitor='val_loss', verbose=1, save_best_only=True),\n",
    "             ModelCheckpoint('models/emd_model_last.h5', monitor='val_loss', verbose=1, save_last_only=True),\n",
    "            ]\n",
    "    \n",
    "sym_model.compile(optimizer='adam', loss='msle', metrics=['mse', 'mae', 'mape', 'msle'])\n",
    "history = sym_model.fit((X1_train, X2_train), y_train, \n",
    "                    validation_data=((X1_val, X2_val), y_val),\n",
    "                    epochs=10, verbose=1, batch_size=32, callbacks=callbacks)"
   ]
  },
  {
   "cell_type": "code",
   "execution_count": 36,
   "metadata": {},
   "outputs": [
    {
     "data": {
      "text/plain": [
       "<matplotlib.legend.Legend at 0x7f3aee38b9d0>"
      ]
     },
     "execution_count": 36,
     "metadata": {},
     "output_type": "execute_result"
    },
    {
     "data": {
      "image/png": "[encoded data removed]",
      "text/plain": [
       "<Figure size 432x288 with 1 Axes>"
      ]
     },
     "metadata": {
      "needs_background": "light"
     },
     "output_type": "display_data"
    }
   ],
   "source": [
    "plt.plot(history.history['loss'], label='Train')\n",
    "plt.plot(history.history['val_loss'], label='Val.')\n",
    "plt.xlabel('Epoch')\n",
    "plt.ylabel('MSE loss')\n",
    "plt.legend()"
   ]
  },
  {
   "cell_type": "code",
   "execution_count": 37,
   "metadata": {},
   "outputs": [
    {
     "data": {
      "image/png": "[encoded data removed]",
      "text/plain": [
       "<Figure size 432x288 with 1 Axes>"
      ]
     },
     "metadata": {
      "needs_background": "light"
     },
     "output_type": "display_data"
    }
   ],
   "source": [
    "y_val_preds = sym_model.predict((X1_val, X2_val))\n",
    "plt.figure()\n",
    "plt.hist(y_val, alpha=0.5, bins=np.arange(0, 15, 0.1), label='True')\n",
    "plt.hist(y_val_preds, alpha=0.5, bins=np.arange(0, 15, 0.1), label='Pred.')\n",
    "plt.xlabel('EMD [GeV]')\n",
    "plt.ylabel('Samples')\n",
    "plt.legend()\n",
    "plt.show()"
   ]
  },
  {
   "cell_type": "code",
   "execution_count": 38,
   "metadata": {},
   "outputs": [
    {
     "data": {
      "image/png": "[encoded data removed]",
      "text/plain": [
       "<Figure size 432x288 with 1 Axes>"
      ]
     },
     "metadata": {
      "needs_background": "light"
     },
     "output_type": "display_data"
    }
   ],
   "source": [
    "rel_diff = (y_val_preds[y_val>0].flatten()-y_val[y_val>0].flatten())/y_val[y_val>0].flatten()\n",
    "plt.figure()\n",
    "plt.hist(rel_diff, bins=np.arange(-1, 1, 0.01), color='green', label = 'mean = {:.3f}, std. = {:.3f}'.format(np.mean(rel_diff), np.std(rel_diff)))\n",
    "plt.xlabel('EMD rel. diff.')\n",
    "plt.ylabel('Samples')\n",
    "plt.legend()\n",
    "plt.show()"
   ]
  },
  {
   "cell_type": "code",
   "execution_count": 39,
   "metadata": {},
   "outputs": [
    {
     "data": {
      "image/png": "[encoded data removed]",
      "text/plain": [
       "<Figure size 360x360 with 1 Axes>"
      ]
     },
     "metadata": {
      "needs_background": "light"
     },
     "output_type": "display_data"
    }
   ],
   "source": [
    "fig, ax = plt.subplots(figsize =(5, 5)) \n",
    "x_bins = np.arange(0, 15, 0.1)\n",
    "y_bins = np.arange(0, 15, 0.1)\n",
    "plt.hist2d(y_val.flatten(), y_val_preds.flatten(), bins=[x_bins,y_bins])\n",
    "plt.plot([0, 15], [0, 15], color='gray', alpha=0.5)\n",
    "ax.set_xlabel('True EMD [GeV]')\n",
    "ax.set_ylabel('Pred. EMD [GeV]')\n",
    "plt.show()"
   ]
  },
  {
   "cell_type": "code",
   "execution_count": null,
   "metadata": {},
   "outputs": [],
   "source": []
  }
 ],
 "metadata": {
  "kernelspec": {
   "display_name": "Python 3",
   "language": "python",
   "name": "python3"
  },
  "language_info": {
   "codemirror_mode": {
    "name": "ipython",
    "version": 3
   },
   "file_extension": ".py",
   "mimetype": "text/x-python",
   "name": "python",
   "nbconvert_exporter": "python",
   "pygments_lexer": "ipython3",
   "version": "3.7.10"
  }
 },
 "nbformat": 4,
 "nbformat_minor": 2
}
